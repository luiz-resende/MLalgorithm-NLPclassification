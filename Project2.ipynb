{
 "cells": [
  {
   "cell_type": "markdown",
   "metadata": {},
   "source": [
    "# Project 2 ML"
   ]
  },
  {
   "cell_type": "markdown",
   "metadata": {},
   "source": [
    "Modules"
   ]
  },
  {
   "cell_type": "code",
   "execution_count": 1,
   "metadata": {},
   "outputs": [],
   "source": [
    "##################################################################################################################################\n",
    "'''                                             IMPORTING GENERAL LIBRARIES                                                   '''\n",
    "##################################################################################################################################\n",
    "import pandas as pd\n",
    "import numpy as np\n",
    "import seaborn as sb\n",
    "import matplotlib.pyplot as plt\n",
    "import time\n",
    "import timeit\n",
    "##################################################################################################################################\n",
    "'''                                      IMPORTING SCIKIT-LEARN METHODS AND MODULES                                          '''\n",
    "##################################################################################################################################\n",
    "##################################################################\n",
    "'''                 FEATURE EXTRACTION                       '''\n",
    "##################################################################\n",
    "from sklearn.model_selection import train_test_split\n",
    "from sklearn.feature_extraction.text import CountVectorizer\n",
    "from sklearn.feature_extraction.text import TfidfVectorizer\n",
    "from sklearn.feature_extraction.text import HashingVectorizer\n",
    "from sklearn.preprocessing import normalize\n",
    "from sklearn.preprocessing import Normalizer\n",
    "##################################################################\n",
    "'''                 FEATURE SELECTION                       '''\n",
    "##################################################################\n",
    "from sklearn.feature_selection import chi2\n",
    "from sklearn.feature_selection import mutual_info_classif\n",
    "from sklearn.feature_selection import SelectKBest\n",
    "from sklearn.decomposition import TruncatedSVD\n",
    "from sklearn.decomposition import NMF\n",
    "##################################################################\n",
    "'''                     CLASSIFIERS                        '''\n",
    "##################################################################\n",
    "from sklearn.linear_model import LogisticRegression\n",
    "from sklearn.svm import LinearSVC\n",
    "from sklearn.linear_model import SGDClassifier\n",
    "from sklearn.naive_bayes import BernoulliNB\n",
    "from sklearn.naive_bayes import MultinomialNB\n",
    "from sklearn.neighbors import KNeighborsClassifier\n",
    "from sklearn.ensemble import RandomForestClassifier\n",
    "from sklearn.ensemble import VotingClassifier\n",
    "##################################################################\n",
    "'''           PIPELINE, GRID SEARCH AND METRICS             '''\n",
    "##################################################################\n",
    "from sklearn.pipeline import Pipeline\n",
    "from sklearn.model_selection import GridSearchCV\n",
    "from sklearn import metrics\n",
    "##################################################################\n",
    "'''                     NLTK LIBRARY MODULES                 '''\n",
    "##################################################################\n",
    "import nltk\n",
    "from nltk.corpus import stopwords\n",
    "from nltk import word_tokenize \n",
    "from nltk.stem import WordNetLemmatizer\n"
   ]
  },
  {
   "cell_type": "markdown",
   "metadata": {},
   "source": [
    "Read and manage data"
   ]
  },
  {
   "cell_type": "code",
   "execution_count": 2,
   "metadata": {},
   "outputs": [],
   "source": [
    "##################################################################################################################################\n",
    "'''                                 GENERAL FUNCTIONS TO READ, WRITE AND HABDLE DATA                                        '''\n",
    "##################################################################################################################################\n",
    "\n",
    "def Read_File_DF(File_Name, separation=\",\", head=None, replace=[], drop=False):\n",
    "    \"\"\" Function created to read dataset files and import information as a Pandas DataFrame\n",
    "    INPUT: Dataset file name, character delimiter in the file (default ','), flag for file header (default 0 - no header head=None),\n",
    "            list of strings to find possible malformations (default empty) and flag to drop or not lines/columns\n",
    "            containing such values (default False)\"\"\"\n",
    "    try:\n",
    "        separation = separation.lower()\n",
    "        if(separation == \"space\" or separation == \"tab\"):\n",
    "            separation = \"\\t\"\n",
    "        Raw_Data_Set = pd.read_csv(File_Name, delimiter=separation, header=head, na_values=replace)\n",
    "        RawRowsColumns = Raw_Data_Set.shape\n",
    "        if(replace != None):\n",
    "            Missing = Raw_Data_Set.isnull().sum().sum()\n",
    "            print(\"Total number of missing/anomalous 'entries' in the data set: \",Missing)\n",
    "            if(drop == True):\n",
    "                Raw_Data_Set.dropna(axis=0, how='any', inplace=True)\n",
    "                CleanRowsColumns = Raw_Data_Set.shape\n",
    "                print(\"Number of examples with missing values deleted from data set: \",(RawRowsColumns[0]-CleanRowsColumns[0]))\n",
    "        return Raw_Data_Set\n",
    "    except:\n",
    "        print(\"READ_FILE_ERROR\\n\")\n",
    "\n",
    "def Write_File_DF(Data_Set, File_Name=\"Predictions\", separation=\",\", head=True, ind=False, dec='.'):\n",
    "    \"\"\" Function created to write a Pandas DataFrame containing prediciton made by classifiers to submit to competition\n",
    "    INPUT: DataFrame with IDs and predictions, file name (default 'Predictions'), character delimiter in the file (default ','), \n",
    "            flag to include file header (default True), flag to include column of indices (default False)\n",
    "            and character for decimals (default '.') \"\"\"\n",
    "    try:\n",
    "        separation = separation.lower()\n",
    "        if(separation == \"space\" or separation == \"tab\"):\n",
    "            separation = \"\\t\"\n",
    "        timestr = time.strftime(\"%y-%m-%d_%Hh%Mm%Ss_\")\n",
    "        name = timestr+File_Name+\".csv\"\n",
    "        Data_Set.to_csv(path_or_buf=name, sep=separation, na_rep='', float_format=None, columns=None, header=head, index=ind,\n",
    "                        index_label=None, mode='w', encoding=None, compression='infer', quoting=None, quotechar='\"',\n",
    "                        line_terminator=None, chunksize=None, date_format=None, doublequote=True, escapechar=None, decimal=dec)\n",
    "        return print(\"Predictions for classes exported as csv file\")\n",
    "    except:\n",
    "        print(\"WRITE_FILE_ERROR\\n\")\n",
    "\n",
    "def To_PD_DF(Data_Set):\n",
    "    \"\"\" Function created to convert NumPy array to Pandas DataFrame \n",
    "    INPUT: NumPy array/matrix containing data \"\"\"\n",
    "    try:\n",
    "        Data_Set_DF = pd.DataFrame(Data_Set, index = (list(range(0,Data_Set.shape[0]))), columns = (list(range(0,Data_Set.shape[1]))))\n",
    "        return Data_Set_DF\n",
    "    except:\n",
    "        print(\"DATAFRAME_CONVERT_ERROR\\n\")\n",
    "    \n",
    "def To_NP_Array(Data_Set):\n",
    "    \"\"\" Function created to convert Pandas DataFrame to NumPy array/matrix \n",
    "    INPUT: Pandas DataFrame containing data \"\"\"\n",
    "    try:\n",
    "        Data_Set_NP = Data_Set.to_numpy(copy = True)\n",
    "        return Data_Set_NP\n",
    "    except:\n",
    "        print(\"NP_CONVERT_ERROR\\n\")"
   ]
  },
  {
   "cell_type": "code",
   "execution_count": 3,
   "metadata": {},
   "outputs": [],
   "source": [
    "def Count_Plot(Column, Dataset, Cond=None, TitleName=\"MyPlot\", Color=None, save=False):\n",
    "    sb.set(style=\"whitegrid\", color_codes=True) # set the background colour of the plot to white\n",
    "    sb.set(rc={\"figure.figsize\":(25,20)}) # setting the plot size for all plots\n",
    "    ax = sb.countplot(Column,data=Dataset, hue=Cond, color=Color) # create a countplot ,hue = 'Opportunity Result'\n",
    "    ax.set_title(TitleName, fontsize = 35)\n",
    "    #sb.despine(offset=10, trim=True) # Remove the top and down margin\n",
    "    plt.show() # display the plot\n",
    "    if(save==True):\n",
    "        fig = ax.get_figure()\n",
    "        fig.savefig(TitleName+\".png\")"
   ]
  },
  {
   "cell_type": "markdown",
   "metadata": {},
   "source": [
    "Calling data"
   ]
  },
  {
   "cell_type": "code",
   "execution_count": 4,
   "metadata": {
    "scrolled": true
   },
   "outputs": [
    {
     "data": {
      "text/html": [
       "<div>\n",
       "<style scoped>\n",
       "    .dataframe tbody tr th:only-of-type {\n",
       "        vertical-align: middle;\n",
       "    }\n",
       "\n",
       "    .dataframe tbody tr th {\n",
       "        vertical-align: top;\n",
       "    }\n",
       "\n",
       "    .dataframe thead th {\n",
       "        text-align: right;\n",
       "    }\n",
       "</style>\n",
       "<table border=\"1\" class=\"dataframe\">\n",
       "  <thead>\n",
       "    <tr style=\"text-align: right;\">\n",
       "      <th></th>\n",
       "      <th>id</th>\n",
       "      <th>comments</th>\n",
       "      <th>subreddits</th>\n",
       "    </tr>\n",
       "  </thead>\n",
       "  <tbody>\n",
       "    <tr>\n",
       "      <td>0</td>\n",
       "      <td>0</td>\n",
       "      <td>Honestly, Buffalo is the correct answer. I rem...</td>\n",
       "      <td>hockey</td>\n",
       "    </tr>\n",
       "    <tr>\n",
       "      <td>1</td>\n",
       "      <td>1</td>\n",
       "      <td>Ah yes way could have been :( remember when he...</td>\n",
       "      <td>nba</td>\n",
       "    </tr>\n",
       "    <tr>\n",
       "      <td>2</td>\n",
       "      <td>2</td>\n",
       "      <td>https://youtu.be/6xxbBR8iSZ0?t=40m49s\\n\\nIf yo...</td>\n",
       "      <td>leagueoflegends</td>\n",
       "    </tr>\n",
       "    <tr>\n",
       "      <td>3</td>\n",
       "      <td>3</td>\n",
       "      <td>He wouldn't have been a bad signing if we woul...</td>\n",
       "      <td>soccer</td>\n",
       "    </tr>\n",
       "    <tr>\n",
       "      <td>4</td>\n",
       "      <td>4</td>\n",
       "      <td>Easy. You use the piss and dry technique. Let ...</td>\n",
       "      <td>funny</td>\n",
       "    </tr>\n",
       "  </tbody>\n",
       "</table>\n",
       "</div>"
      ],
      "text/plain": [
       "   id                                           comments       subreddits\n",
       "0   0  Honestly, Buffalo is the correct answer. I rem...           hockey\n",
       "1   1  Ah yes way could have been :( remember when he...              nba\n",
       "2   2  https://youtu.be/6xxbBR8iSZ0?t=40m49s\\n\\nIf yo...  leagueoflegends\n",
       "3   3  He wouldn't have been a bad signing if we woul...           soccer\n",
       "4   4  Easy. You use the piss and dry technique. Let ...            funny"
      ]
     },
     "execution_count": 4,
     "metadata": {},
     "output_type": "execute_result"
    }
   ],
   "source": [
    "FileTrain = \"reddit_train.csv\"\n",
    "dataTrain = Read_File_DF(FileTrain, separation=',', head=0, replace=None, drop=False) #Reading file\n",
    "dataTrain.head(n=5)"
   ]
  },
  {
   "cell_type": "code",
   "execution_count": 5,
   "metadata": {},
   "outputs": [
    {
     "data": {
      "text/html": [
       "<div>\n",
       "<style scoped>\n",
       "    .dataframe tbody tr th:only-of-type {\n",
       "        vertical-align: middle;\n",
       "    }\n",
       "\n",
       "    .dataframe tbody tr th {\n",
       "        vertical-align: top;\n",
       "    }\n",
       "\n",
       "    .dataframe thead th {\n",
       "        text-align: right;\n",
       "    }\n",
       "</style>\n",
       "<table border=\"1\" class=\"dataframe\">\n",
       "  <thead>\n",
       "    <tr style=\"text-align: right;\">\n",
       "      <th></th>\n",
       "      <th>id</th>\n",
       "      <th>comments</th>\n",
       "      <th>subreddits</th>\n",
       "    </tr>\n",
       "  </thead>\n",
       "  <tbody>\n",
       "    <tr>\n",
       "      <td>69995</td>\n",
       "      <td>69995</td>\n",
       "      <td>Thank you, you confirm Spain does have nice pe...</td>\n",
       "      <td>europe</td>\n",
       "    </tr>\n",
       "    <tr>\n",
       "      <td>69996</td>\n",
       "      <td>69996</td>\n",
       "      <td>Imagine how many he would have killed with a r...</td>\n",
       "      <td>leagueoflegends</td>\n",
       "    </tr>\n",
       "    <tr>\n",
       "      <td>69997</td>\n",
       "      <td>69997</td>\n",
       "      <td>Yes. Only. As in the guy I was replying to was...</td>\n",
       "      <td>canada</td>\n",
       "    </tr>\n",
       "    <tr>\n",
       "      <td>69998</td>\n",
       "      <td>69998</td>\n",
       "      <td>Looking for something light-hearted or has a v...</td>\n",
       "      <td>anime</td>\n",
       "    </tr>\n",
       "    <tr>\n",
       "      <td>69999</td>\n",
       "      <td>69999</td>\n",
       "      <td>I love how I never cry about casters because I...</td>\n",
       "      <td>GlobalOffensive</td>\n",
       "    </tr>\n",
       "  </tbody>\n",
       "</table>\n",
       "</div>"
      ],
      "text/plain": [
       "          id                                           comments  \\\n",
       "69995  69995  Thank you, you confirm Spain does have nice pe...   \n",
       "69996  69996  Imagine how many he would have killed with a r...   \n",
       "69997  69997  Yes. Only. As in the guy I was replying to was...   \n",
       "69998  69998  Looking for something light-hearted or has a v...   \n",
       "69999  69999  I love how I never cry about casters because I...   \n",
       "\n",
       "            subreddits  \n",
       "69995           europe  \n",
       "69996  leagueoflegends  \n",
       "69997           canada  \n",
       "69998            anime  \n",
       "69999  GlobalOffensive  "
      ]
     },
     "execution_count": 5,
     "metadata": {},
     "output_type": "execute_result"
    }
   ],
   "source": [
    "dataTrain.tail(n=5)"
   ]
  },
  {
   "cell_type": "markdown",
   "metadata": {},
   "source": [
    "General information about subreddit classes"
   ]
  },
  {
   "cell_type": "code",
   "execution_count": 6,
   "metadata": {
    "scrolled": true
   },
   "outputs": [
    {
     "name": "stdout",
     "output_type": "stream",
     "text": [
      "count     70000\n",
      "unique       20\n",
      "top       trees\n",
      "freq       3500\n",
      "Name: subreddits, dtype: object\n"
     ]
    }
   ],
   "source": [
    "print(dataTrain[\"subreddits\"].describe())"
   ]
  },
  {
   "cell_type": "markdown",
   "metadata": {},
   "source": [
    "Looking at frequency of each subreddit class"
   ]
  },
  {
   "cell_type": "code",
   "execution_count": 7,
   "metadata": {
    "scrolled": false
   },
   "outputs": [
    {
     "name": "stdout",
     "output_type": "stream",
     "text": [
      "         subreddits  frequency\n",
      "0            hockey       3500\n",
      "1               nba       3500\n",
      "2   leagueoflegends       3500\n",
      "3            soccer       3500\n",
      "4             funny       3500\n",
      "5            movies       3500\n",
      "6             anime       3500\n",
      "7         Overwatch       3500\n",
      "8             trees       3500\n",
      "9   GlobalOffensive       3500\n",
      "10              nfl       3500\n",
      "11        AskReddit       3500\n",
      "12    gameofthrones       3500\n",
      "13       conspiracy       3500\n",
      "14        worldnews       3500\n",
      "15              wow       3500\n",
      "16           europe       3500\n",
      "17           canada       3500\n",
      "18            Music       3500\n",
      "19         baseball       3500\n"
     ]
    }
   ],
   "source": [
    "clas = dataTrain[\"subreddits\"].unique().tolist()\n",
    "fr = []\n",
    "for sub in clas:\n",
    "    fr.append(dataTrain[\"subreddits\"].str.count(sub).sum())\n",
    "Freq = pd.DataFrame({\"subreddits\":clas,\"frequency\":fr})\n",
    "print(Freq)"
   ]
  },
  {
   "cell_type": "markdown",
   "metadata": {},
   "source": [
    "Histogram for subreddits' distribution"
   ]
  },
  {
   "cell_type": "code",
   "execution_count": 8,
   "metadata": {
    "scrolled": false
   },
   "outputs": [
    {
     "data": {
      "image/png": "[encoded data removed]",
      "text/plain": [
       "<Figure size 1800x1440 with 1 Axes>"
      ]
     },
     "metadata": {},
     "output_type": "display_data"
    }
   ],
   "source": [
    "Count_Plot(Column=\"subreddits\", Dataset=dataTrain, TitleName=\"Subreddits Histogram\", save=False)"
   ]
  },
  {
   "cell_type": "markdown",
   "metadata": {},
   "source": [
    "Dividing the dataset into a training and a test set"
   ]
  },
  {
   "cell_type": "code",
   "execution_count": 9,
   "metadata": {},
   "outputs": [
    {
     "data": {
      "text/html": [
       "<div>\n",
       "<style scoped>\n",
       "    .dataframe tbody tr th:only-of-type {\n",
       "        vertical-align: middle;\n",
       "    }\n",
       "\n",
       "    .dataframe tbody tr th {\n",
       "        vertical-align: top;\n",
       "    }\n",
       "\n",
       "    .dataframe thead th {\n",
       "        text-align: right;\n",
       "    }\n",
       "</style>\n",
       "<table border=\"1\" class=\"dataframe\">\n",
       "  <thead>\n",
       "    <tr style=\"text-align: right;\">\n",
       "      <th></th>\n",
       "      <th>id</th>\n",
       "      <th>comments</th>\n",
       "    </tr>\n",
       "  </thead>\n",
       "  <tbody>\n",
       "    <tr>\n",
       "      <td>11975</td>\n",
       "      <td>11975</td>\n",
       "      <td>/u/sfoxx, your post has been removed as this a...</td>\n",
       "    </tr>\n",
       "    <tr>\n",
       "      <td>25159</td>\n",
       "      <td>25159</td>\n",
       "      <td>I would take Charlotte over Philadelphia for s...</td>\n",
       "    </tr>\n",
       "    <tr>\n",
       "      <td>60336</td>\n",
       "      <td>60336</td>\n",
       "      <td>EVERYONE is treated by Israel. That's what Isr...</td>\n",
       "    </tr>\n",
       "    <tr>\n",
       "      <td>50911</td>\n",
       "      <td>50911</td>\n",
       "      <td>Very true.  I was lazy and couldn't be bothere...</td>\n",
       "    </tr>\n",
       "    <tr>\n",
       "      <td>46228</td>\n",
       "      <td>46228</td>\n",
       "      <td>Scheifele... Well have to win cups and he'll h...</td>\n",
       "    </tr>\n",
       "    <tr>\n",
       "      <td>53853</td>\n",
       "      <td>53853</td>\n",
       "      <td>And he was a negative defender pretty much eve...</td>\n",
       "    </tr>\n",
       "    <tr>\n",
       "      <td>46305</td>\n",
       "      <td>46305</td>\n",
       "      <td>He chased the dreams further and further in to...</td>\n",
       "    </tr>\n",
       "    <tr>\n",
       "      <td>55633</td>\n",
       "      <td>55633</td>\n",
       "      <td>Or you should just, like, go with the flow man</td>\n",
       "    </tr>\n",
       "    <tr>\n",
       "      <td>35605</td>\n",
       "      <td>35605</td>\n",
       "      <td>I want a support that is a little monkey who r...</td>\n",
       "    </tr>\n",
       "    <tr>\n",
       "      <td>55813</td>\n",
       "      <td>55813</td>\n",
       "      <td>We did for several games in a row. Never met a...</td>\n",
       "    </tr>\n",
       "  </tbody>\n",
       "</table>\n",
       "</div>"
      ],
      "text/plain": [
       "          id                                           comments\n",
       "11975  11975  /u/sfoxx, your post has been removed as this a...\n",
       "25159  25159  I would take Charlotte over Philadelphia for s...\n",
       "60336  60336  EVERYONE is treated by Israel. That's what Isr...\n",
       "50911  50911  Very true.  I was lazy and couldn't be bothere...\n",
       "46228  46228  Scheifele... Well have to win cups and he'll h...\n",
       "53853  53853  And he was a negative defender pretty much eve...\n",
       "46305  46305  He chased the dreams further and further in to...\n",
       "55633  55633    Or you should just, like, go with the flow man \n",
       "35605  35605  I want a support that is a little monkey who r...\n",
       "55813  55813  We did for several games in a row. Never met a..."
      ]
     },
     "execution_count": 9,
     "metadata": {},
     "output_type": "execute_result"
    }
   ],
   "source": [
    "target = dataTrain[\"subreddits\"]\n",
    "features = dataTrain.iloc[:,[0,1]]\n",
    "\n",
    "from sklearn.model_selection import train_test_split\n",
    "data_train, data_test, out_train, out_test = train_test_split(features,target, test_size=0.30, random_state=106750, shuffle=True, stratify=target)\n",
    "\n",
    "data_train.tail(n=10)"
   ]
  },
  {
   "cell_type": "code",
   "execution_count": 10,
   "metadata": {},
   "outputs": [
    {
     "name": "stdout",
     "output_type": "stream",
     "text": [
      "EVERYONE is treated by Israel. That's what Israeli doctors do. Your statement has no cause to be an accusation. \n",
      "worldnews\n"
     ]
    }
   ],
   "source": [
    "print(data_train.iloc[48992,1])\n",
    "print(out_train.iloc[48992])"
   ]
  },
  {
   "cell_type": "markdown",
   "metadata": {},
   "source": [
    "Vectorizing the features - CountVectorizer or TF–IDF term weighting"
   ]
  },
  {
   "cell_type": "code",
   "execution_count": 11,
   "metadata": {
    "scrolled": false
   },
   "outputs": [],
   "source": [
    "def ExtractVectorizer(DataTrain, DataTest, CountVecXTFIDF=True, Accents=None, Token=None, Stop=None, nGram=None, Binar=False,\n",
    "                      Regular='l2', Normal=False, SubLinear=False, AdditFeat=None, show=False):\n",
    "    \"\"\" Function imports method CountVectorizer and TfidfVectorizer from scikit-learn to extract text features\n",
    "    INPUT: training examples' features, testing examples' features, flag for choosing extractor (default True -> CountVectorizer),\n",
    "            string for strip accents (default None), tokenizer method (default none), list containing set of stop_words (default None),\n",
    "            the tupple fortusing n-grams (default None -> (1,1)), flag to binarize CountVectorizer, regularization method for Tfidf (default 'l2'),\n",
    "            flag to normalize or not the extracted features (default False), flag for sublinear tf (default False), additional features\n",
    "            which are not to be fitted (default None) and flag for showing resulting vectors (default False)\n",
    "    OUTPUT: Vector of fitted training features and vector of transformed test features \"\"\"\n",
    "    try:\n",
    "#        Default arguments CountVectorizer -> (encoding='utf-8', decode_error='strict', strip_accents=None, lowercase=True,\n",
    "#                                              preprocessor=None, tokenizer=None, stop_words=None, token_pattern='(?u)\\b\\w\\w+\\b',\n",
    "#                                              ngram_range=(1, 1), analyzer='word', max_df=1.0, min_df=1, max_features=None,\n",
    "#                                              vocabulary=None, binary=False)\n",
    "#        Default arguments TfidfVectorizer -> (encoding='utf-8', decode_error='strict', strip_accents=None, lowercase=True,\n",
    "#                                              preprocessor=None, tokenizer=None, analyzer='word', stop_words=None,\n",
    "#                                              token_pattern='(?u)\\b\\w\\w+\\b', ngram_range=(1, 1), max_df=1.0, min_df=1,\n",
    "#                                              max_features=None, vocabulary=None, binary=False, norm='l2', use_idf=True,\n",
    "#                                              smooth_idf=True, sublinear_tf=False)\n",
    "        if(nGram==None):\n",
    "            nGram = (1,1)\n",
    "        \n",
    "        if(CountVecXTFIDF==True):\n",
    "            vectorizing = CountVectorizer(strip_accents=Accents, tokenizer=Token, stop_words=Stop, ngram_range=nGram, binary=Binar)\n",
    "            print(\"Vectorizer selected:\",vectorizing)\n",
    "        elif(CountVecXTFIDF==False):\n",
    "            vectorizing = TfidfVectorizer(strip_accents=Accents, tokenizer=Token, stop_words=Stop, ngram_range=nGram, binary=Binar,\n",
    "                                          norm=Regular, sublinear_tf=SubLinear)\n",
    "            print(\"Vectorizer selected:\",vectorizing)\n",
    "        \n",
    "        vector_training = vectorizing.fit_transform(DataTrain) #Vectorizing vocabulary for training set and fitting        \n",
    "        vector_testing = vectorizing.transform(DataTest) #Vectorizing vocabulary for test set and transforming - only transforming, or else we would train in the test data also\n",
    "        \n",
    "        if(AdditFeat!=None):\n",
    "            from scipy.sparse import hstack\n",
    "            vector_additional = vectorizing.transform(AdditFeat)\n",
    "            vector_training = hstack((vector_training, vector_additional))\n",
    "            print(\"All features assembled.\\n\")\n",
    "        \n",
    "        if(Normal==True):\n",
    "            vector_training = normalize(vector_training) #Normalizing vector for training set        \n",
    "            vector_testing = normalize(vector_testing) #Normalizing vector for training set\n",
    "            print(\"Data normalized.\\n\")\n",
    "        \n",
    "        if(show==True):\n",
    "            print(\"Mapping of terms:\",vectorizing.vocabulary_) #Vocabulaty from the vectorization\n",
    "            print(\"List of stop words used:\",vectorizing.stop_words_) #Terms ignored in the vectorization\n",
    "            if hasattr(vectorizing, 'idf_'):\n",
    "                print(\"Inverse document frequency:\",vectorizing.idf_) #Inverse document frequency from the vectorization\n",
    "        return vector_training, vector_testing\n",
    "    except:\n",
    "        print(\"VECTORIZER_ERROR\\n\")"
   ]
  },
  {
   "cell_type": "code",
   "execution_count": 12,
   "metadata": {},
   "outputs": [],
   "source": [
    "\"\"\" Different Parameters to be used in the vectorizer \"\"\"\n",
    "#Stops = 'english'\n",
    "Strips = 'unicode'\n",
    "#Strips = 'ascii'\n",
    "#Tokens = pf.LemmatizerTokens()\n",
    "#NGrams = (1,2)\n",
    "Stops = None\n",
    "#Strips = None\n",
    "Tokens = None\n",
    "NGrams = None"
   ]
  },
  {
   "cell_type": "code",
   "execution_count": 13,
   "metadata": {
    "scrolled": true
   },
   "outputs": [
    {
     "name": "stdout",
     "output_type": "stream",
     "text": [
      "Vectorizer selected: TfidfVectorizer(analyzer='word', binary=True, decode_error='strict',\n",
      "                dtype=<class 'numpy.float64'>, encoding='utf-8',\n",
      "                input='content', lowercase=True, max_df=1.0, max_features=None,\n",
      "                min_df=1, ngram_range=(1, 1), norm='l1', preprocessor=None,\n",
      "                smooth_idf=True, stop_words=None, strip_accents='unicode',\n",
      "                sublinear_tf=True, token_pattern='(?u)\\\\b\\\\w\\\\w+\\\\b',\n",
      "                tokenizer=None, use_idf=True, vocabulary=None)\n",
      "  (0, 20506)\t0.13450346488300532\n",
      "  (0, 28802)\t0.14657556141696548\n",
      "  (0, 54380)\t0.04771684541076506\n",
      "  (0, 59453)\t0.07260273304581083\n",
      "  (0, 14905)\t0.1296344620245622\n",
      "  (0, 20725)\t0.11651540512992065\n",
      "  (0, 30221)\t0.05208278021614683\n",
      "  (0, 38100)\t0.06980630844111088\n",
      "  (0, 10344)\t0.0456523434875406\n",
      "  (0, 13901)\t0.1062014079436651\n",
      "  (0, 42673)\t0.07870868800050712\n",
      "  (1, 13338)\t0.016810535334324885\n",
      "  (1, 39088)\t0.00954317386847193\n",
      "  (1, 43845)\t0.016320768435281633\n",
      "  (1, 5695)\t0.012036380386266907\n",
      "  (1, 25814)\t0.008407808576157532\n",
      "  (1, 54830)\t0.005445467918927352\n",
      "  (1, 13252)\t0.01634338572496451\n",
      "  (1, 35014)\t0.01603339336590281\n",
      "  (1, 52343)\t0.01626860113511822\n",
      "  (1, 38572)\t0.006222297798332886\n",
      "  (1, 35879)\t0.016926191514756734\n",
      "  (1, 13707)\t0.016582767565385674\n",
      "  (1, 6864)\t0.016801807488587887\n",
      "  (1, 40810)\t0.01683245842963423\n",
      "  :\t:\n",
      "  (48998, 7184)\t0.028935518137828225\n",
      "  (48998, 58708)\t0.02832747715109448\n",
      "  (48998, 59406)\t0.024669544292631032\n",
      "  (48998, 38852)\t0.017792499948266184\n",
      "  (48998, 5386)\t0.012353781133150275\n",
      "  (48998, 59777)\t0.018111046156066835\n",
      "  (48998, 10740)\t0.020498694123308\n",
      "  (48998, 28002)\t0.014183675779846297\n",
      "  (48998, 54117)\t0.013598242427586659\n",
      "  (48998, 29215)\t0.014088967871917083\n",
      "  (48999, 19316)\t0.13150916214323005\n",
      "  (48999, 35032)\t0.09594417627377932\n",
      "  (48999, 46782)\t0.10290580746970956\n",
      "  (48999, 43860)\t0.09171769082403863\n",
      "  (48999, 48609)\t0.08852516337521263\n",
      "  (48999, 5701)\t0.06971537632594846\n",
      "  (48999, 37418)\t0.05898571101459424\n",
      "  (48999, 16697)\t0.05757861326956635\n",
      "  (48999, 7184)\t0.05912467345554918\n",
      "  (48999, 50353)\t0.0410324789404858\n",
      "  (48999, 23323)\t0.07030404559193804\n",
      "  (48999, 58959)\t0.0472040808651989\n",
      "  (48999, 54830)\t0.02374335749540476\n",
      "  (48999, 22302)\t0.032727800771702335\n",
      "  (48999, 28002)\t0.02898186218364141 \n",
      "   (0, 60709)\t0.05805069939048559\n",
      "  (0, 49271)\t0.1022140094453046\n",
      "  (0, 44247)\t0.12320744301706842\n",
      "  (0, 43716)\t0.14087522185450033\n",
      "  (0, 32275)\t0.09385356666077539\n",
      "  (0, 30221)\t0.04916771564813834\n",
      "  (0, 29324)\t0.03381673554820614\n",
      "  (0, 17609)\t0.07348726049070313\n",
      "  (0, 17196)\t0.14334531429075353\n",
      "  (0, 8136)\t0.1165676074665533\n",
      "  (0, 5060)\t0.06541442618751124\n",
      "  (1, 60039)\t0.02486051283193462\n",
      "  (1, 59406)\t0.027581609166314143\n",
      "  (1, 58959)\t0.025828579816733654\n",
      "  (1, 58923)\t0.030367367251800878\n",
      "  (1, 58812)\t0.020073087094086544\n",
      "  (1, 54830)\t0.012991614134773368\n",
      "  (1, 54424)\t0.03310924727019396\n",
      "  (1, 54380)\t0.019689828618748986\n",
      "  (1, 54266)\t0.02482870407205272\n",
      "  (1, 54137)\t0.01108627074697014\n",
      "  (1, 51468)\t0.04962901080996501\n",
      "  (1, 40744)\t0.025581314159492902\n",
      "  (1, 39367)\t0.03417882527098881\n",
      "  (1, 37799)\t0.025740403055216042\n",
      "  :\t:\n",
      "  (20999, 27467)\t0.02096181430072063\n",
      "  (20999, 25814)\t0.007944881046815414\n",
      "  (20999, 24311)\t0.022934416247732153\n",
      "  (20999, 24220)\t0.021354925265330848\n",
      "  (20999, 22923)\t0.0238984840342146\n",
      "  (20999, 22908)\t0.014833106687535236\n",
      "  (20999, 22101)\t0.02419578036764053\n",
      "  (20999, 20264)\t0.013189776201027398\n",
      "  (20999, 17749)\t0.017390686800576715\n",
      "  (20999, 17608)\t0.013155740862203096\n",
      "  (20999, 16907)\t0.02438909172193559\n",
      "  (20999, 15079)\t0.031179289397875808\n",
      "  (20999, 12527)\t0.024525102798463098\n",
      "  (20999, 12326)\t0.029741197950237847\n",
      "  (20999, 10698)\t0.028766810607899852\n",
      "  (20999, 10642)\t0.0339829057596746\n",
      "  (20999, 10091)\t0.02217005574402836\n",
      "  (20999, 10080)\t0.023378636236082717\n",
      "  (20999, 9501)\t0.022546588298093334\n",
      "  (20999, 9172)\t0.024894193730511806\n",
      "  (20999, 5386)\t0.005470601126079475\n",
      "  (20999, 3847)\t0.01757154257578744\n",
      "  (20999, 2205)\t0.017912286242009395\n",
      "  (20999, 639)\t0.020283394989026347\n",
      "  (20999, 546)\t0.020266059274602833\n"
     ]
    }
   ],
   "source": [
    "vector_training, vector_testing = ExtractVectorizer(DataTrain=data_train[\"comments\"], DataTest=data_test[\"comments\"], CountVecXTFIDF=False,\n",
    "                                                 Accents=Strips, Token=Tokens, Stop=NGrams, nGram=NGrams, Binar=True, Regular='l1',\n",
    "                                                 Normal=False, SubLinear=True, AdditFeat=None, show=False)\n",
    "print(vector_training,\"\\n\", vector_testing)"
   ]
  },
  {
   "cell_type": "markdown",
   "metadata": {},
   "source": [
    "Defining list of possible classification models"
   ]
  },
  {
   "cell_type": "code",
   "execution_count": 14,
   "metadata": {
    "scrolled": true
   },
   "outputs": [],
   "source": [
    "ListClassifiers = [(\"LogisticRegression\", LogisticRegression(penalty='elasticnet', dual=False, tol=0.0001, C=10, fit_intercept=True,\n",
    "                                                             intercept_scaling=1, class_weight=None, random_state=None, solver='saga',\n",
    "                                                             max_iter=1500, multi_class='auto', verbose=0, warm_start=False, n_jobs=-1,\n",
    "                                                             l1_ratio=0.75))\n",
    "                   ,(\"LinearSVC\", LinearSVC(C=10, class_weight=None, dual=True, fit_intercept=True, intercept_scaling=1,\n",
    "                                           loss='squared_hinge', max_iter=1000, multi_class='ovr', penalty='l1', random_state=None,\n",
    "                                           tol=0.0001,verbose=0))\n",
    "                   ,(\"SGD_Classifier\", SGDClassifier(alpha=0.000001, average=False, class_weight=None, early_stopping=False, epsilon=0.1,\n",
    "                                                     eta0=0.0, fit_intercept=True, l1_ratio=0.75, learning_rate='optimal', loss='hinge',\n",
    "                                                     max_iter=1000, n_iter_no_change=5, n_jobs=-1, penalty='elasticnet', power_t=0.5,\n",
    "                                                     random_state=None, shuffle=True, tol=0.001, validation_fraction=0.1, verbose=0, warm_start=False))\n",
    "                   ,(\"Bernoulli_Naive_Bayes\", BernoulliNB(alpha=1.0))\n",
    "                   ,(\"Multinomial_Naive_Bayes\", MultinomialNB(alpha=0.01, class_prior=None, fit_prior=True))\n",
    "                   ,(\"kNearest_Neighbors\", KNeighborsClassifier(n_neighbors=15))\n",
    "                   ,(\"Random_Forest\", RandomForestClassifier(n_estimators=1000, bootstrap=True, class_weight=None, criterion='gini',\n",
    "                                                             max_depth=None, max_features='auto', max_leaf_nodes=None,\n",
    "                                                             min_impurity_decrease=0.0, min_impurity_split=None, min_samples_leaf=2,\n",
    "                                                             min_samples_split=2, min_weight_fraction_leaf=0.0, n_jobs=-1, oob_score=False,\n",
    "                                                             random_state=None, verbose=0, warm_start=False))\n",
    "                   ]"
   ]
  },
  {
   "cell_type": "markdown",
   "metadata": {},
   "source": [
    "Function to fit model and make predictions"
   ]
  },
  {
   "cell_type": "code",
   "execution_count": 15,
   "metadata": {
    "scrolled": true
   },
   "outputs": [],
   "source": [
    "def Classification_Model(data_training, target_training, data_testing, Classifier, target_testing=None, ModelName=\"Classifier\", accur=False, grph=False, setClass=None, show=False):\n",
    "    \"\"\" Function created to receive a classification model from Scikit-Learn library and perform the fittinf and predicting steps.\n",
    "    INPUT: training examples' features, training examples' outputs, testing examples' features, testing examples' outputs if performing held out\n",
    "            validation (default None), classifier name, flag for printing accuracy in case of validation (default False), flag for printing\n",
    "            classification reports (default grph=False) from ClassReport_Graph funciton, list with the names of the classes (if grph=True) \n",
    "            and flag fo showing classifier's attributes (default False) \"\"\"\n",
    "    try:\n",
    "        print(\"Classifier selected: \", Classifier)\n",
    "        print(\"-\"*100)\n",
    "        Classifier.fit(data_training, target_training) #Object of type Classifier training model\n",
    "        preds = Classifier.predict(data_testing) #Object of type Classifier predicting classes\n",
    "        if(accur==True):\n",
    "            print((ModelName+\" accuracy: \"),metrics.accuracy_score(target_testing, preds, normalize=True))\n",
    "        if(grph==True):\n",
    "            ClassReport_Graph(Classif=Classifier, Data_train=data_training, Target_train=target_training, Data_test=data_testing, Target_test=target_testing, Class=setClass)\n",
    "        if(show==True):\n",
    "            Parameters = Classifier.get_params\n",
    "            if(Classifier==LogisticRegression(Parameters)):\n",
    "                print(\"Class labels:\\n\",Classifier.classes_) #List of class labels\n",
    "                print(\"Features' coefficients:\\n\",Classifier.coef_) #Coefficient of the features in the decision function\n",
    "                print(\"Bias added:\\n\",Classifier.intercept_) #Bias added to the classification function       \n",
    "            elif(Classifier==LinearSVC(Parameters)):\n",
    "                print(\"Features' weights:\\n\",Classifier.coef_) #Coefficients of the features in the primal problem\n",
    "                print(\"Intercept constants:\\n\",Classifier.intercept_) #Bias added to the classification function\n",
    "            elif(Classifier==SGDClassifier(Parameters)):\n",
    "                print(\"Features' weights:\\n\",Classifier.coef_) #Coefficients of the features in the primal problem\n",
    "                print(\"Intercept constants:\\n\",Classifier.intercept_) #Bias added to the classification function\n",
    "                print(\"Loss function:\\n\",Classifier.loss_function_) #Loss function used\n",
    "            elif(Classifier==BernoulliNB(Parameters)):\n",
    "                print(\"The log probability of each class:\\n\",Classifier.class_log_prior_) #Smoothed log probability of each class\n",
    "                print(\"Log probability of features given a class:\\n\",Classifier.feature_log_prob_) #Empirical log probability of features given a class, P(x_i|y)\n",
    "                print(\"Number of samples obs.:\\n\",Classifier.class_count_) #Number of training samples observed in each class\n",
    "                print(\"Number samples for each class/feat.:\\n\",Classifier.feature_count_) #Number of samples encountered for each (class, feature) during fitting\n",
    "            elif(Classifier==MultinomialNB(Parameters)):\n",
    "                print(\"The log probability of each class:\\n\",Classifier.class_log_prior_) #Smoothed log probability of each class\n",
    "                print(\"Log probability of features given a class:\\n\",Classifier.feature_log_prob_) #Empirical log probability of features given a class, P(x_i|y)\n",
    "                print(\"Number of samples obs.:\\n\",Classifier.class_count_) #Number of training samples observed in each class\n",
    "                print(\"Number samples for each class/feat.:\\n\",Classifier.feature_count_) #Number of samples encountered for each (class, feature) during fitting\n",
    "            elif(Classifier==RandomForestClassifier(Parameters)):\n",
    "                print(\"List of DT classifiers:\\n\",Classifier.estimators_) #The collection of fitted sub-estimators\n",
    "                print(\"Score of the training dataset:\\n\",Classifier.oob_score_ ) #Score of the training dataset obtained using an out-of-bag estimate.\n",
    "                print(\"Number of samples obs.classes:\\n\",Classifier.classes_) #The classes labels\n",
    "            elif(Classifier==VotingClassifier(Parameters)):\n",
    "                print(\"List of estimators stacked:\\n\",Classifier.estimators_) #The collection of fitted sub-estimators as defined in estimators that are not None\n",
    "                print(\"Name to access estimators:\\n\",Classifier.named_estimators_ ) #Attribute to access any fitted sub-estimators by name\n",
    "                print(\"Number of samples obs.:\\n\",Classifier.classes_) #The classes labels\n",
    "        print(\"-\"*100)\n",
    "        return preds    \n",
    "    except:\n",
    "        print(\"CLASSIFIER-FIT/TEST_ERROR\\n\")"
   ]
  },
  {
   "cell_type": "markdown",
   "metadata": {},
   "source": [
    "Running model"
   ]
  },
  {
   "cell_type": "code",
   "execution_count": 16,
   "metadata": {},
   "outputs": [
    {
     "name": "stdout",
     "output_type": "stream",
     "text": [
      "Classifier selected:  MultinomialNB(alpha=0.01, class_prior=None, fit_prior=True)\n",
      "----------------------------------------------------------------------------------------------------\n",
      "Multinomial_Naive_Bayes accuracy:  0.5506666666666666\n",
      "----------------------------------------------------------------------------------------------------\n"
     ]
    }
   ],
   "source": [
    "test_pred = Classification_Model(data_training=vector_training, target_training=out_train, data_testing=vector_testing,\n",
    "                                    Classifier=ListClassifiers[4][1], target_testing=out_test, ModelName=ListClassifiers[4][0], accur=True,\n",
    "                                    grph=False, setClass=clas, show=False)"
   ]
  },
  {
   "cell_type": "markdown",
   "metadata": {},
   "source": [
    "Importing method to report and analyse predictions Logistic Regression"
   ]
  },
  {
   "cell_type": "code",
   "execution_count": 18,
   "metadata": {
    "scrolled": true
   },
   "outputs": [
    {
     "data": {
      "image/png": "[encoded data removed]",
      "text/plain": [
       "<Figure size 576x396 with 2 Axes>"
      ]
     },
     "metadata": {},
     "output_type": "display_data"
    }
   ],
   "source": [
    "from yellowbrick.classifier import ClassificationReport\n",
    "visualizer = ClassificationReport(ListClassifiers[4][1], classes=clas)\n",
    "visualizer.fit(vector_training, out_train) # Fit the training data to the visualizer\n",
    "visualizer.score(vector_testing, out_test) # Evaluate the model on the test data\n",
    "graph = visualizer.poof() # Draw/show/poof the data"
   ]
  },
  {
   "cell_type": "code",
   "execution_count": null,
   "metadata": {},
   "outputs": [],
   "source": []
  }
 ],
 "metadata": {
  "kernelspec": {
   "display_name": "Python 3",
   "language": "python",
   "name": "python3"
  },
  "language_info": {
   "codemirror_mode": {
    "name": "ipython",
    "version": 3
   },
   "file_extension": ".py",
   "mimetype": "text/x-python",
   "name": "python",
   "nbconvert_exporter": "python",
   "pygments_lexer": "ipython3",
   "version": "3.7.3"
  }
 },
 "nbformat": 4,
 "nbformat_minor": 2
}
